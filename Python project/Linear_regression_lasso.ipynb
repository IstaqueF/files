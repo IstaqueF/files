{
 "cells": [
  {
   "cell_type": "code",
   "execution_count": 56,
   "metadata": {},
   "outputs": [],
   "source": [
    "import pandas as pd"
   ]
  },
  {
   "cell_type": "code",
   "execution_count": 57,
   "metadata": {},
   "outputs": [],
   "source": [
    "import numpy as np"
   ]
  },
  {
   "cell_type": "code",
   "execution_count": 58,
   "metadata": {},
   "outputs": [],
   "source": [
    "import matplotlib.pyplot as plt"
   ]
  },
  {
   "cell_type": "code",
   "execution_count": 59,
   "metadata": {},
   "outputs": [],
   "source": [
    "import re"
   ]
  },
  {
   "cell_type": "code",
   "execution_count": 60,
   "metadata": {},
   "outputs": [],
   "source": [
    "import seaborn as sns"
   ]
  },
  {
   "cell_type": "code",
   "execution_count": 61,
   "metadata": {},
   "outputs": [],
   "source": [
    "%matplotlib inline"
   ]
  },
  {
   "cell_type": "code",
   "execution_count": 62,
   "metadata": {},
   "outputs": [],
   "source": [
    "from sklearn.linear_model import LinearRegression"
   ]
  },
  {
   "cell_type": "code",
   "execution_count": 123,
   "metadata": {},
   "outputs": [],
   "source": [
    "from sklearn.model_selection import train_test_split"
   ]
  },
  {
   "cell_type": "code",
   "execution_count": 169,
   "metadata": {},
   "outputs": [],
   "source": [
    "import statsmodels.formula.api as smf"
   ]
  },
  {
   "cell_type": "code",
   "execution_count": 131,
   "metadata": {},
   "outputs": [],
   "source": [
    "from sklearn import metrics"
   ]
  },
  {
   "cell_type": "code",
   "execution_count": 133,
   "metadata": {},
   "outputs": [],
   "source": [
    "from sklearn.metrics import r2_score"
   ]
  },
  {
   "cell_type": "code",
   "execution_count": 64,
   "metadata": {},
   "outputs": [],
   "source": [
    "from sklearn.linear_model import Lasso"
   ]
  },
  {
   "cell_type": "code",
   "execution_count": 65,
   "metadata": {},
   "outputs": [],
   "source": [
    "n = r'C:\\Users\\Kush baba the great\\Desktop\\Datashapa\\datasets\\linear regression\\cars.csv'"
   ]
  },
  {
   "cell_type": "code",
   "execution_count": 66,
   "metadata": {},
   "outputs": [],
   "source": [
    "df = pd.read_csv(n)"
   ]
  },
  {
   "cell_type": "markdown",
   "metadata": {},
   "source": [
    "INITIAL EXPLORATION"
   ]
  },
  {
   "cell_type": "code",
   "execution_count": 67,
   "metadata": {},
   "outputs": [
    {
     "data": {
      "text/html": [
       "<div>\n",
       "<style scoped>\n",
       "    .dataframe tbody tr th:only-of-type {\n",
       "        vertical-align: middle;\n",
       "    }\n",
       "\n",
       "    .dataframe tbody tr th {\n",
       "        vertical-align: top;\n",
       "    }\n",
       "\n",
       "    .dataframe thead th {\n",
       "        text-align: right;\n",
       "    }\n",
       "</style>\n",
       "<table border=\"1\" class=\"dataframe\">\n",
       "  <thead>\n",
       "    <tr style=\"text-align: right;\">\n",
       "      <th></th>\n",
       "      <th>name</th>\n",
       "      <th>year</th>\n",
       "      <th>selling_price</th>\n",
       "      <th>km_driven</th>\n",
       "      <th>fuel</th>\n",
       "      <th>seller_type</th>\n",
       "      <th>transmission</th>\n",
       "      <th>owner</th>\n",
       "      <th>mileage</th>\n",
       "      <th>engine</th>\n",
       "      <th>max_power</th>\n",
       "      <th>torque</th>\n",
       "      <th>seats</th>\n",
       "    </tr>\n",
       "  </thead>\n",
       "  <tbody>\n",
       "    <tr>\n",
       "      <th>0</th>\n",
       "      <td>Maruti Swift Dzire VDI</td>\n",
       "      <td>2014</td>\n",
       "      <td>450000</td>\n",
       "      <td>145500</td>\n",
       "      <td>Diesel</td>\n",
       "      <td>Individual</td>\n",
       "      <td>Manual</td>\n",
       "      <td>First Owner</td>\n",
       "      <td>23.4 kmpl</td>\n",
       "      <td>1248 CC</td>\n",
       "      <td>74 bhp</td>\n",
       "      <td>190Nm@ 2000rpm</td>\n",
       "      <td>5.0</td>\n",
       "    </tr>\n",
       "    <tr>\n",
       "      <th>1</th>\n",
       "      <td>Skoda Rapid 1.5 TDI Ambition</td>\n",
       "      <td>2014</td>\n",
       "      <td>370000</td>\n",
       "      <td>120000</td>\n",
       "      <td>Diesel</td>\n",
       "      <td>Individual</td>\n",
       "      <td>Manual</td>\n",
       "      <td>Second Owner</td>\n",
       "      <td>21.14 kmpl</td>\n",
       "      <td>1498 CC</td>\n",
       "      <td>103.52 bhp</td>\n",
       "      <td>250Nm@ 1500-2500rpm</td>\n",
       "      <td>5.0</td>\n",
       "    </tr>\n",
       "    <tr>\n",
       "      <th>2</th>\n",
       "      <td>Honda City 2017-2020 EXi</td>\n",
       "      <td>2006</td>\n",
       "      <td>158000</td>\n",
       "      <td>140000</td>\n",
       "      <td>Petrol</td>\n",
       "      <td>Individual</td>\n",
       "      <td>Manual</td>\n",
       "      <td>Third Owner</td>\n",
       "      <td>17.7 kmpl</td>\n",
       "      <td>1497 CC</td>\n",
       "      <td>78 bhp</td>\n",
       "      <td>12.7@ 2,700(kgm@ rpm)</td>\n",
       "      <td>5.0</td>\n",
       "    </tr>\n",
       "    <tr>\n",
       "      <th>3</th>\n",
       "      <td>Hyundai i20 Sportz Diesel</td>\n",
       "      <td>2010</td>\n",
       "      <td>225000</td>\n",
       "      <td>127000</td>\n",
       "      <td>Diesel</td>\n",
       "      <td>Individual</td>\n",
       "      <td>Manual</td>\n",
       "      <td>First Owner</td>\n",
       "      <td>23.0 kmpl</td>\n",
       "      <td>1396 CC</td>\n",
       "      <td>90 bhp</td>\n",
       "      <td>22.4 kgm at 1750-2750rpm</td>\n",
       "      <td>5.0</td>\n",
       "    </tr>\n",
       "    <tr>\n",
       "      <th>4</th>\n",
       "      <td>Maruti Swift VXI BSIII</td>\n",
       "      <td>2007</td>\n",
       "      <td>130000</td>\n",
       "      <td>120000</td>\n",
       "      <td>Petrol</td>\n",
       "      <td>Individual</td>\n",
       "      <td>Manual</td>\n",
       "      <td>First Owner</td>\n",
       "      <td>16.1 kmpl</td>\n",
       "      <td>1298 CC</td>\n",
       "      <td>88.2 bhp</td>\n",
       "      <td>11.5@ 4,500(kgm@ rpm)</td>\n",
       "      <td>5.0</td>\n",
       "    </tr>\n",
       "  </tbody>\n",
       "</table>\n",
       "</div>"
      ],
      "text/plain": [
       "                           name  year  selling_price  km_driven    fuel  \\\n",
       "0        Maruti Swift Dzire VDI  2014         450000     145500  Diesel   \n",
       "1  Skoda Rapid 1.5 TDI Ambition  2014         370000     120000  Diesel   \n",
       "2      Honda City 2017-2020 EXi  2006         158000     140000  Petrol   \n",
       "3     Hyundai i20 Sportz Diesel  2010         225000     127000  Diesel   \n",
       "4        Maruti Swift VXI BSIII  2007         130000     120000  Petrol   \n",
       "\n",
       "  seller_type transmission         owner     mileage   engine   max_power  \\\n",
       "0  Individual       Manual   First Owner   23.4 kmpl  1248 CC      74 bhp   \n",
       "1  Individual       Manual  Second Owner  21.14 kmpl  1498 CC  103.52 bhp   \n",
       "2  Individual       Manual   Third Owner   17.7 kmpl  1497 CC      78 bhp   \n",
       "3  Individual       Manual   First Owner   23.0 kmpl  1396 CC      90 bhp   \n",
       "4  Individual       Manual   First Owner   16.1 kmpl  1298 CC    88.2 bhp   \n",
       "\n",
       "                     torque  seats  \n",
       "0            190Nm@ 2000rpm    5.0  \n",
       "1       250Nm@ 1500-2500rpm    5.0  \n",
       "2     12.7@ 2,700(kgm@ rpm)    5.0  \n",
       "3  22.4 kgm at 1750-2750rpm    5.0  \n",
       "4     11.5@ 4,500(kgm@ rpm)    5.0  "
      ]
     },
     "execution_count": 67,
     "metadata": {},
     "output_type": "execute_result"
    }
   ],
   "source": [
    "df.head(5)"
   ]
  },
  {
   "cell_type": "code",
   "execution_count": 68,
   "metadata": {},
   "outputs": [
    {
     "name": "stdout",
     "output_type": "stream",
     "text": [
      "<class 'pandas.core.frame.DataFrame'>\n",
      "RangeIndex: 8128 entries, 0 to 8127\n",
      "Data columns (total 13 columns):\n",
      " #   Column         Non-Null Count  Dtype  \n",
      "---  ------         --------------  -----  \n",
      " 0   name           8128 non-null   object \n",
      " 1   year           8128 non-null   int64  \n",
      " 2   selling_price  8128 non-null   int64  \n",
      " 3   km_driven      8128 non-null   int64  \n",
      " 4   fuel           8128 non-null   object \n",
      " 5   seller_type    8128 non-null   object \n",
      " 6   transmission   8128 non-null   object \n",
      " 7   owner          8128 non-null   object \n",
      " 8   mileage        7907 non-null   object \n",
      " 9   engine         7907 non-null   object \n",
      " 10  max_power      7913 non-null   object \n",
      " 11  torque         7906 non-null   object \n",
      " 12  seats          7907 non-null   float64\n",
      "dtypes: float64(1), int64(3), object(9)\n",
      "memory usage: 825.6+ KB\n"
     ]
    }
   ],
   "source": [
    "df.info()"
   ]
  },
  {
   "cell_type": "code",
   "execution_count": 69,
   "metadata": {},
   "outputs": [
    {
     "data": {
      "text/plain": [
       "1202"
      ]
     },
     "execution_count": 69,
     "metadata": {},
     "output_type": "execute_result"
    }
   ],
   "source": [
    "df.duplicated().sum()"
   ]
  },
  {
   "cell_type": "code",
   "execution_count": 70,
   "metadata": {},
   "outputs": [
    {
     "data": {
      "text/plain": [
       "name               0\n",
       "year               0\n",
       "selling_price      0\n",
       "km_driven          0\n",
       "fuel               0\n",
       "seller_type        0\n",
       "transmission       0\n",
       "owner              0\n",
       "mileage          221\n",
       "engine           221\n",
       "max_power        215\n",
       "torque           222\n",
       "seats            221\n",
       "dtype: int64"
      ]
     },
     "execution_count": 70,
     "metadata": {},
     "output_type": "execute_result"
    }
   ],
   "source": [
    "df.isnull().sum()"
   ]
  },
  {
   "cell_type": "markdown",
   "metadata": {},
   "source": [
    "DATA CLEANING\n",
    "\n",
    "Null values: delete Null values from milage, engine, max_power, torque, seats\n",
    "\n",
    "drop irrelevant columns: Name , Torque \n",
    "\n",
    "Duplicates: DROP duplicates value \n",
    "\n",
    "String value manipulation and change data type: mileage , engine, max power\n",
    "\n",
    "ENCODE and change data type : fuel, seller type, transmission, owner "
   ]
  },
  {
   "cell_type": "code",
   "execution_count": 71,
   "metadata": {},
   "outputs": [],
   "source": [
    "# DROP NULL VALUES \n",
    "df.dropna(inplace=True)"
   ]
  },
  {
   "cell_type": "code",
   "execution_count": 72,
   "metadata": {},
   "outputs": [],
   "source": [
    "# Drop irrelevant columns \n",
    "df.drop([\"name\",\"torque\"],axis=1,inplace = True)"
   ]
  },
  {
   "cell_type": "code",
   "execution_count": 73,
   "metadata": {},
   "outputs": [],
   "source": [
    "df = df.drop_duplicates()"
   ]
  },
  {
   "cell_type": "markdown",
   "metadata": {},
   "source": [
    "String value manipulation : mileage , engine, max power"
   ]
  },
  {
   "cell_type": "code",
   "execution_count": 74,
   "metadata": {},
   "outputs": [],
   "source": [
    "# mileage string value manipulation and data change \n",
    "df[\"mileage\"] = df[\"mileage\"].str.replace('[a-zA-Z]',\"\").str.strip(\"/\").astype(float)"
   ]
  },
  {
   "cell_type": "code",
   "execution_count": 75,
   "metadata": {},
   "outputs": [],
   "source": [
    "df[\"engine\"] = df[\"engine\"].str.replace('[a-zA-Z]',\"\").astype(float)"
   ]
  },
  {
   "cell_type": "code",
   "execution_count": 76,
   "metadata": {},
   "outputs": [],
   "source": [
    "df[\"max_power\"] = df[\"max_power\"].str.replace('[a-zA-Z]',\"\").astype(float)"
   ]
  },
  {
   "cell_type": "code",
   "execution_count": 77,
   "metadata": {},
   "outputs": [
    {
     "name": "stdout",
     "output_type": "stream",
     "text": [
      "<class 'pandas.core.frame.DataFrame'>\n",
      "Int64Index: 6698 entries, 0 to 8125\n",
      "Data columns (total 11 columns):\n",
      " #   Column         Non-Null Count  Dtype  \n",
      "---  ------         --------------  -----  \n",
      " 0   year           6698 non-null   int64  \n",
      " 1   selling_price  6698 non-null   int64  \n",
      " 2   km_driven      6698 non-null   int64  \n",
      " 3   fuel           6698 non-null   object \n",
      " 4   seller_type    6698 non-null   object \n",
      " 5   transmission   6698 non-null   object \n",
      " 6   owner          6698 non-null   object \n",
      " 7   mileage        6698 non-null   float64\n",
      " 8   engine         6698 non-null   float64\n",
      " 9   max_power      6698 non-null   float64\n",
      " 10  seats          6698 non-null   float64\n",
      "dtypes: float64(4), int64(3), object(4)\n",
      "memory usage: 627.9+ KB\n"
     ]
    }
   ],
   "source": [
    "df.info()"
   ]
  },
  {
   "cell_type": "markdown",
   "metadata": {},
   "source": [
    "ENCODE The columns: fuel, seller type, transmission, owner "
   ]
  },
  {
   "cell_type": "code",
   "execution_count": 78,
   "metadata": {},
   "outputs": [],
   "source": [
    "# One-hot encoding fuel as it's nominal categorical value \n",
    "df = pd.get_dummies(df, columns=['fuel'])"
   ]
  },
  {
   "cell_type": "code",
   "execution_count": 79,
   "metadata": {},
   "outputs": [],
   "source": [
    "# One-hot encoding seller_type as it's nominal categorical value \n",
    "df = pd.get_dummies(df, columns=['seller_type'])"
   ]
  },
  {
   "cell_type": "code",
   "execution_count": 80,
   "metadata": {},
   "outputs": [],
   "source": [
    "# One-hot encoding transmission as it's nominal categorical value \n",
    "df = pd.get_dummies(df, columns=['transmission'])"
   ]
  },
  {
   "cell_type": "code",
   "execution_count": 81,
   "metadata": {},
   "outputs": [],
   "source": [
    "# One-hot encoding owner as it's nominal categorical value \n",
    "df = pd.get_dummies(df, columns=['owner'])"
   ]
  },
  {
   "cell_type": "code",
   "execution_count": 82,
   "metadata": {},
   "outputs": [],
   "source": [
    "df = df.astype(float)"
   ]
  },
  {
   "cell_type": "markdown",
   "metadata": {},
   "source": [
    "#FEATURE SCALING of each column"
   ]
  },
  {
   "cell_type": "code",
   "execution_count": 83,
   "metadata": {},
   "outputs": [],
   "source": [
    "df['year'] = (df['year'] - df['year'].mean()) / df['year'].std()"
   ]
  },
  {
   "cell_type": "code",
   "execution_count": 84,
   "metadata": {},
   "outputs": [],
   "source": [
    "df['km_driven'] = (df['km_driven'] - df['km_driven'].mean()) / df['km_driven'].std()"
   ]
  },
  {
   "cell_type": "code",
   "execution_count": 85,
   "metadata": {},
   "outputs": [],
   "source": [
    "df['mileage'] = (df['mileage'] - df['mileage'].mean()) / df['mileage'].std()"
   ]
  },
  {
   "cell_type": "code",
   "execution_count": 86,
   "metadata": {},
   "outputs": [],
   "source": [
    "df['engine'] = (df['engine'] - df['engine'].mean()) / df['engine'].std()"
   ]
  },
  {
   "cell_type": "code",
   "execution_count": 87,
   "metadata": {},
   "outputs": [],
   "source": [
    "df['engine'] = (df['engine'] - df['engine'].mean()) / df['engine'].std()"
   ]
  },
  {
   "cell_type": "code",
   "execution_count": 88,
   "metadata": {},
   "outputs": [],
   "source": [
    "df['max_power'] = (df['max_power'] - df['max_power'].mean()) / df['max_power'].std()"
   ]
  },
  {
   "cell_type": "code",
   "execution_count": 89,
   "metadata": {},
   "outputs": [],
   "source": [
    "df['seats'] = (df['seats'] - df['seats'].mean()) / df['seats'].std()"
   ]
  },
  {
   "cell_type": "code",
   "execution_count": 90,
   "metadata": {},
   "outputs": [],
   "source": [
    "df['fuel_CNG'] = (df['fuel_CNG'] - df['fuel_CNG'].mean()) / df['fuel_CNG'].std()"
   ]
  },
  {
   "cell_type": "code",
   "execution_count": 91,
   "metadata": {},
   "outputs": [],
   "source": [
    "df['fuel_Diesel'] = (df['fuel_Diesel'] - df['fuel_Diesel'].mean()) / df['fuel_Diesel'].std()"
   ]
  },
  {
   "cell_type": "code",
   "execution_count": 92,
   "metadata": {},
   "outputs": [],
   "source": [
    "df['fuel_LPG'] = (df['fuel_LPG'] - df['fuel_LPG'].mean()) / df['fuel_LPG'].std()"
   ]
  },
  {
   "cell_type": "code",
   "execution_count": 93,
   "metadata": {},
   "outputs": [],
   "source": [
    "df['fuel_Petrol'] = (df['fuel_Petrol'] - df['fuel_Petrol'].mean()) / df['fuel_Petrol'].std()"
   ]
  },
  {
   "cell_type": "code",
   "execution_count": 94,
   "metadata": {},
   "outputs": [],
   "source": [
    "df['seller_type_Dealer'] = (df['seller_type_Dealer'] - df['seller_type_Dealer'].mean()) / df['seller_type_Dealer'].std()"
   ]
  },
  {
   "cell_type": "code",
   "execution_count": 95,
   "metadata": {},
   "outputs": [],
   "source": [
    "df['seller_type_Individual'] = (df['seller_type_Individual'] - df['seller_type_Individual'].mean()) / df['seller_type_Individual'].std()"
   ]
  },
  {
   "cell_type": "code",
   "execution_count": 96,
   "metadata": {},
   "outputs": [],
   "source": [
    "df['seller_type_Trustmark Dealer'] = (df['seller_type_Trustmark Dealer'] - df['seller_type_Trustmark Dealer'].mean()) / df['seller_type_Trustmark Dealer'].std()"
   ]
  },
  {
   "cell_type": "code",
   "execution_count": 97,
   "metadata": {},
   "outputs": [],
   "source": [
    "df['transmission_Automatic'] = (df['transmission_Automatic'] - df['transmission_Automatic'].mean()) / df['transmission_Automatic'].std()"
   ]
  },
  {
   "cell_type": "code",
   "execution_count": 98,
   "metadata": {},
   "outputs": [],
   "source": [
    "df['transmission_Manual'] = (df['transmission_Manual'] - df['transmission_Manual'].mean()) / df['transmission_Manual'].std()"
   ]
  },
  {
   "cell_type": "code",
   "execution_count": 99,
   "metadata": {},
   "outputs": [],
   "source": [
    "df['owner_First Owner'] = (df['owner_First Owner'] - df['owner_First Owner'].mean()) / df['owner_First Owner'].std()"
   ]
  },
  {
   "cell_type": "code",
   "execution_count": 100,
   "metadata": {},
   "outputs": [],
   "source": [
    "df['owner_Fourth & Above Owner'] = (df['owner_Fourth & Above Owner'] - df['owner_Fourth & Above Owner'].mean()) / df['owner_Fourth & Above Owner'].std()"
   ]
  },
  {
   "cell_type": "code",
   "execution_count": 101,
   "metadata": {},
   "outputs": [],
   "source": [
    "df['owner_Second Owner'] = (df['owner_Second Owner'] - df['owner_Second Owner'].mean()) / df['owner_Second Owner'].std()"
   ]
  },
  {
   "cell_type": "code",
   "execution_count": 102,
   "metadata": {},
   "outputs": [],
   "source": [
    "df['owner_Test Drive Car'] = (df['owner_Test Drive Car'] - df['owner_Test Drive Car'].mean()) / df['owner_Test Drive Car'].std()"
   ]
  },
  {
   "cell_type": "code",
   "execution_count": 103,
   "metadata": {},
   "outputs": [],
   "source": [
    "df['owner_Third Owner'] = (df['owner_Third Owner'] - df['owner_Third Owner'].mean()) / df['owner_Third Owner'].std()"
   ]
  },
  {
   "cell_type": "code",
   "execution_count": 104,
   "metadata": {},
   "outputs": [],
   "source": [
    "df['selling_price'] = (df['selling_price'] - df['selling_price'].mean()) / df['selling_price'].std()"
   ]
  },
  {
   "cell_type": "code",
   "execution_count": 105,
   "metadata": {},
   "outputs": [
    {
     "data": {
      "text/html": [
       "<div>\n",
       "<style scoped>\n",
       "    .dataframe tbody tr th:only-of-type {\n",
       "        vertical-align: middle;\n",
       "    }\n",
       "\n",
       "    .dataframe tbody tr th {\n",
       "        vertical-align: top;\n",
       "    }\n",
       "\n",
       "    .dataframe thead th {\n",
       "        text-align: right;\n",
       "    }\n",
       "</style>\n",
       "<table border=\"1\" class=\"dataframe\">\n",
       "  <thead>\n",
       "    <tr style=\"text-align: right;\">\n",
       "      <th></th>\n",
       "      <th>year</th>\n",
       "      <th>selling_price</th>\n",
       "      <th>km_driven</th>\n",
       "      <th>mileage</th>\n",
       "      <th>engine</th>\n",
       "      <th>max_power</th>\n",
       "      <th>seats</th>\n",
       "      <th>fuel_CNG</th>\n",
       "      <th>fuel_Diesel</th>\n",
       "      <th>fuel_LPG</th>\n",
       "      <th>...</th>\n",
       "      <th>seller_type_Dealer</th>\n",
       "      <th>seller_type_Individual</th>\n",
       "      <th>seller_type_Trustmark Dealer</th>\n",
       "      <th>transmission_Automatic</th>\n",
       "      <th>transmission_Manual</th>\n",
       "      <th>owner_First Owner</th>\n",
       "      <th>owner_Fourth &amp; Above Owner</th>\n",
       "      <th>owner_Second Owner</th>\n",
       "      <th>owner_Test Drive Car</th>\n",
       "      <th>owner_Third Owner</th>\n",
       "    </tr>\n",
       "  </thead>\n",
       "  <tbody>\n",
       "    <tr>\n",
       "      <th>0</th>\n",
       "      <td>0.100534</td>\n",
       "      <td>-0.146123</td>\n",
       "      <td>1.227986</td>\n",
       "      <td>0.971590</td>\n",
       "      <td>-0.371228</td>\n",
       "      <td>-0.434405</td>\n",
       "      <td>-0.441036</td>\n",
       "      <td>-0.087587</td>\n",
       "      <td>0.913753</td>\n",
       "      <td>-0.072471</td>\n",
       "      <td>...</td>\n",
       "      <td>-0.332257</td>\n",
       "      <td>0.339686</td>\n",
       "      <td>-0.063614</td>\n",
       "      <td>-0.306422</td>\n",
       "      <td>0.306422</td>\n",
       "      <td>0.781028</td>\n",
       "      <td>-0.153902</td>\n",
       "      <td>-0.625771</td>\n",
       "      <td>-0.02733</td>\n",
       "      <td>-0.281851</td>\n",
       "    </tr>\n",
       "    <tr>\n",
       "      <th>1</th>\n",
       "      <td>0.100534</td>\n",
       "      <td>-0.298748</td>\n",
       "      <td>0.793626</td>\n",
       "      <td>0.413483</td>\n",
       "      <td>0.135521</td>\n",
       "      <td>0.495698</td>\n",
       "      <td>-0.441036</td>\n",
       "      <td>-0.087587</td>\n",
       "      <td>0.913753</td>\n",
       "      <td>-0.072471</td>\n",
       "      <td>...</td>\n",
       "      <td>-0.332257</td>\n",
       "      <td>0.339686</td>\n",
       "      <td>-0.063614</td>\n",
       "      <td>-0.306422</td>\n",
       "      <td>0.306422</td>\n",
       "      <td>-1.280172</td>\n",
       "      <td>-0.153902</td>\n",
       "      <td>1.597790</td>\n",
       "      <td>-0.02733</td>\n",
       "      <td>-0.281851</td>\n",
       "    </tr>\n",
       "    <tr>\n",
       "      <th>2</th>\n",
       "      <td>-1.950878</td>\n",
       "      <td>-0.703204</td>\n",
       "      <td>1.134300</td>\n",
       "      <td>-0.436024</td>\n",
       "      <td>0.133494</td>\n",
       "      <td>-0.308375</td>\n",
       "      <td>-0.441036</td>\n",
       "      <td>-0.087587</td>\n",
       "      <td>-1.094225</td>\n",
       "      <td>-0.072471</td>\n",
       "      <td>...</td>\n",
       "      <td>-0.332257</td>\n",
       "      <td>0.339686</td>\n",
       "      <td>-0.063614</td>\n",
       "      <td>-0.306422</td>\n",
       "      <td>0.306422</td>\n",
       "      <td>-1.280172</td>\n",
       "      <td>-0.153902</td>\n",
       "      <td>-0.625771</td>\n",
       "      <td>-0.02733</td>\n",
       "      <td>3.547440</td>\n",
       "    </tr>\n",
       "    <tr>\n",
       "      <th>3</th>\n",
       "      <td>-0.925172</td>\n",
       "      <td>-0.575381</td>\n",
       "      <td>0.912862</td>\n",
       "      <td>0.872810</td>\n",
       "      <td>-0.071233</td>\n",
       "      <td>0.069716</td>\n",
       "      <td>-0.441036</td>\n",
       "      <td>-0.087587</td>\n",
       "      <td>0.913753</td>\n",
       "      <td>-0.072471</td>\n",
       "      <td>...</td>\n",
       "      <td>-0.332257</td>\n",
       "      <td>0.339686</td>\n",
       "      <td>-0.063614</td>\n",
       "      <td>-0.306422</td>\n",
       "      <td>0.306422</td>\n",
       "      <td>0.781028</td>\n",
       "      <td>-0.153902</td>\n",
       "      <td>-0.625771</td>\n",
       "      <td>-0.02733</td>\n",
       "      <td>-0.281851</td>\n",
       "    </tr>\n",
       "    <tr>\n",
       "      <th>4</th>\n",
       "      <td>-1.694452</td>\n",
       "      <td>-0.756623</td>\n",
       "      <td>0.793626</td>\n",
       "      <td>-0.831144</td>\n",
       "      <td>-0.269878</td>\n",
       "      <td>0.013002</td>\n",
       "      <td>-0.441036</td>\n",
       "      <td>-0.087587</td>\n",
       "      <td>-1.094225</td>\n",
       "      <td>-0.072471</td>\n",
       "      <td>...</td>\n",
       "      <td>-0.332257</td>\n",
       "      <td>0.339686</td>\n",
       "      <td>-0.063614</td>\n",
       "      <td>-0.306422</td>\n",
       "      <td>0.306422</td>\n",
       "      <td>0.781028</td>\n",
       "      <td>-0.153902</td>\n",
       "      <td>-0.625771</td>\n",
       "      <td>-0.02733</td>\n",
       "      <td>-0.281851</td>\n",
       "    </tr>\n",
       "  </tbody>\n",
       "</table>\n",
       "<p>5 rows × 21 columns</p>\n",
       "</div>"
      ],
      "text/plain": [
       "       year  selling_price  km_driven   mileage    engine  max_power  \\\n",
       "0  0.100534      -0.146123   1.227986  0.971590 -0.371228  -0.434405   \n",
       "1  0.100534      -0.298748   0.793626  0.413483  0.135521   0.495698   \n",
       "2 -1.950878      -0.703204   1.134300 -0.436024  0.133494  -0.308375   \n",
       "3 -0.925172      -0.575381   0.912862  0.872810 -0.071233   0.069716   \n",
       "4 -1.694452      -0.756623   0.793626 -0.831144 -0.269878   0.013002   \n",
       "\n",
       "      seats  fuel_CNG  fuel_Diesel  fuel_LPG  ...  seller_type_Dealer  \\\n",
       "0 -0.441036 -0.087587     0.913753 -0.072471  ...           -0.332257   \n",
       "1 -0.441036 -0.087587     0.913753 -0.072471  ...           -0.332257   \n",
       "2 -0.441036 -0.087587    -1.094225 -0.072471  ...           -0.332257   \n",
       "3 -0.441036 -0.087587     0.913753 -0.072471  ...           -0.332257   \n",
       "4 -0.441036 -0.087587    -1.094225 -0.072471  ...           -0.332257   \n",
       "\n",
       "   seller_type_Individual  seller_type_Trustmark Dealer  \\\n",
       "0                0.339686                     -0.063614   \n",
       "1                0.339686                     -0.063614   \n",
       "2                0.339686                     -0.063614   \n",
       "3                0.339686                     -0.063614   \n",
       "4                0.339686                     -0.063614   \n",
       "\n",
       "   transmission_Automatic  transmission_Manual  owner_First Owner  \\\n",
       "0               -0.306422             0.306422           0.781028   \n",
       "1               -0.306422             0.306422          -1.280172   \n",
       "2               -0.306422             0.306422          -1.280172   \n",
       "3               -0.306422             0.306422           0.781028   \n",
       "4               -0.306422             0.306422           0.781028   \n",
       "\n",
       "   owner_Fourth & Above Owner  owner_Second Owner  owner_Test Drive Car  \\\n",
       "0                   -0.153902           -0.625771              -0.02733   \n",
       "1                   -0.153902            1.597790              -0.02733   \n",
       "2                   -0.153902           -0.625771              -0.02733   \n",
       "3                   -0.153902           -0.625771              -0.02733   \n",
       "4                   -0.153902           -0.625771              -0.02733   \n",
       "\n",
       "   owner_Third Owner  \n",
       "0          -0.281851  \n",
       "1          -0.281851  \n",
       "2           3.547440  \n",
       "3          -0.281851  \n",
       "4          -0.281851  \n",
       "\n",
       "[5 rows x 21 columns]"
      ]
     },
     "execution_count": 105,
     "metadata": {},
     "output_type": "execute_result"
    }
   ],
   "source": [
    "df.head()"
   ]
  },
  {
   "cell_type": "markdown",
   "metadata": {},
   "source": [
    "DATA CLEANING and FEATURE ENGIINEERING DONE "
   ]
  },
  {
   "cell_type": "markdown",
   "metadata": {},
   "source": [
    "FEATURE SELECTION with L1 Lasso since it's supervised model"
   ]
  },
  {
   "cell_type": "code",
   "execution_count": 106,
   "metadata": {},
   "outputs": [],
   "source": [
    "X = df.drop(\"selling_price\",axis=1)\n",
    "y= df['selling_price']"
   ]
  },
  {
   "cell_type": "code",
   "execution_count": 107,
   "metadata": {},
   "outputs": [
    {
     "name": "stdout",
     "output_type": "stream",
     "text": [
      "Feature Importance:\n",
      "year: 0.2504078954555494\n",
      "km_driven: -0.06110537202355245\n",
      "mileage: 0.004436695782321078\n",
      "engine: 0.02912499544694147\n",
      "max_power: 0.5142527230111541\n",
      "seats: -0.0\n",
      "fuel_CNG: -0.0\n",
      "fuel_Diesel: 0.0\n",
      "fuel_LPG: 0.0\n",
      "fuel_Petrol: -0.06943972894581832\n",
      "seller_type_Dealer: 0.053470067192449997\n",
      "seller_type_Individual: -0.0\n",
      "seller_type_Trustmark Dealer: -0.0\n",
      "transmission_Automatic: 0.1569760445479484\n",
      "transmission_Manual: -1.0822063468349381e-16\n",
      "owner_First Owner: 0.04492819522252256\n",
      "owner_Fourth & Above Owner: 0.0\n",
      "owner_Second Owner: -0.0\n",
      "owner_Test Drive Car: 0.1352559019092851\n",
      "owner_Third Owner: -0.0\n"
     ]
    }
   ],
   "source": [
    "# Create a Lasso regression model with a specified alpha (regularization strength)\n",
    "alpha = 0.01  # You can adjust alpha to control the strength of regularization\n",
    "lasso_model = Lasso(alpha=alpha)\n",
    "\n",
    "# Fit the Lasso model to the training data\n",
    "lasso_model.fit(X,y)      # df_ xy are variables that store relevant column and value\n",
    "\n",
    "# Get the coefficients of the Lasso model\n",
    "feature_coefficients = lasso_model.coef_\n",
    "\n",
    "#inspect the model coefficients to see feature coefficents\n",
    "print('Feature Importance:')\n",
    "for feature, coef in zip(X.columns, feature_coefficients):\n",
    "    print(f'{feature}: {coef}')"
   ]
  },
  {
   "cell_type": "markdown",
   "metadata": {},
   "source": [
    "From the above L1 analysis we can come to the conclusion that few columns can be dropped. These columsn are either zero or very close to zero(difference from zero is less than 0.01 or -0.01)"
   ]
  },
  {
   "cell_type": "code",
   "execution_count": 112,
   "metadata": {},
   "outputs": [],
   "source": [
    "# Create a new dataframe with the relevant columns after L1 analysis \n",
    "df1 = df.iloc[:,[0,1,2,4,5,10,11,14,15,16,19]]"
   ]
  },
  {
   "cell_type": "code",
   "execution_count": 113,
   "metadata": {},
   "outputs": [
    {
     "name": "stdout",
     "output_type": "stream",
     "text": [
      "<class 'pandas.core.frame.DataFrame'>\n",
      "Int64Index: 6698 entries, 0 to 8125\n",
      "Data columns (total 11 columns):\n",
      " #   Column                  Non-Null Count  Dtype  \n",
      "---  ------                  --------------  -----  \n",
      " 0   year                    6698 non-null   float64\n",
      " 1   selling_price           6698 non-null   float64\n",
      " 2   km_driven               6698 non-null   float64\n",
      " 3   engine                  6698 non-null   float64\n",
      " 4   max_power               6698 non-null   float64\n",
      " 5   fuel_Petrol             6698 non-null   float64\n",
      " 6   seller_type_Dealer      6698 non-null   float64\n",
      " 7   transmission_Automatic  6698 non-null   float64\n",
      " 8   transmission_Manual     6698 non-null   float64\n",
      " 9   owner_First Owner       6698 non-null   float64\n",
      " 10  owner_Test Drive Car    6698 non-null   float64\n",
      "dtypes: float64(11)\n",
      "memory usage: 627.9 KB\n"
     ]
    }
   ],
   "source": [
    "df1.info()"
   ]
  },
  {
   "cell_type": "code",
   "execution_count": null,
   "metadata": {},
   "outputs": [],
   "source": [
    "# How to find multicolleanirity and select optimal number of features "
   ]
  },
  {
   "cell_type": "code",
   "execution_count": 114,
   "metadata": {},
   "outputs": [],
   "source": [
    "corr_mat = df1.corr()"
   ]
  },
  {
   "cell_type": "markdown",
   "metadata": {},
   "source": [
    "visualize correlation matrix. We try to find multicollinearity and the common threshold is if the correlation between 2 columns is greater than 0.7 or less than -0.7 "
   ]
  },
  {
   "cell_type": "code",
   "execution_count": 116,
   "metadata": {},
   "outputs": [
    {
     "data": {
      "image/png": "[encoded data removed]",
      "text/plain": [
       "<Figure size 720x576 with 2 Axes>"
      ]
     },
     "metadata": {
      "needs_background": "light"
     },
     "output_type": "display_data"
    }
   ],
   "source": [
    "plt.figure(figsize=(10, 8))\n",
    "sns.heatmap(corr_mat, annot=True, cmap='coolwarm', vmin=-1, vmax=1)\n",
    "plt.title('Correlation Matrix Heatmap')\n",
    "plt.show()"
   ]
  },
  {
   "cell_type": "markdown",
   "metadata": {},
   "source": [
    "From the heatmap above we can see there is strong negative correlation between transmission_automatic and transmission_manual. From Lasso L1 we know transmission_manual contributes more to the target variable hence we will eliminate transmission_automatic"
   ]
  },
  {
   "cell_type": "code",
   "execution_count": 117,
   "metadata": {},
   "outputs": [],
   "source": [
    "df2 = df1.drop(\"transmission_Automatic\",axis=1)"
   ]
  },
  {
   "cell_type": "markdown",
   "metadata": {},
   "source": [
    "LINEAR REGRESSION MODEL"
   ]
  },
  {
   "cell_type": "code",
   "execution_count": 120,
   "metadata": {},
   "outputs": [],
   "source": [
    "#Create datasets for dependent and independent variable\n",
    "X = df2.drop(\"selling_price\",axis=1)\n",
    "y = df[\"selling_price\"]"
   ]
  },
  {
   "cell_type": "code",
   "execution_count": 125,
   "metadata": {},
   "outputs": [],
   "source": [
    "#Train test split\n",
    "X_train, X_test, y_train, y_test = train_test_split(X, y, test_size=0.2, random_state=42)"
   ]
  },
  {
   "cell_type": "code",
   "execution_count": 126,
   "metadata": {},
   "outputs": [],
   "source": [
    "# Create linear regression model\n",
    "model = LinearRegression()"
   ]
  },
  {
   "cell_type": "code",
   "execution_count": 127,
   "metadata": {},
   "outputs": [
    {
     "data": {
      "text/plain": [
       "LinearRegression()"
      ]
     },
     "execution_count": 127,
     "metadata": {},
     "output_type": "execute_result"
    }
   ],
   "source": [
    "# Fit model to training data \n",
    "model.fit(X_train, y_train)"
   ]
  },
  {
   "cell_type": "code",
   "execution_count": 128,
   "metadata": {},
   "outputs": [],
   "source": [
    "# Make prediction on test data \n",
    "y_pred = model.predict(X_test)"
   ]
  },
  {
   "cell_type": "markdown",
   "metadata": {},
   "source": [
    "Evaluate the model"
   ]
  },
  {
   "cell_type": "code",
   "execution_count": 129,
   "metadata": {},
   "outputs": [],
   "source": [
    "# Calculate mean squared error\n",
    "mse = metrics.mean_squared_error(y_test, y_pred)"
   ]
  },
  {
   "cell_type": "code",
   "execution_count": 135,
   "metadata": {},
   "outputs": [
    {
     "name": "stdout",
     "output_type": "stream",
     "text": [
      "0.3347273794253246\n"
     ]
    }
   ],
   "source": [
    "print(mse)"
   ]
  },
  {
   "cell_type": "code",
   "execution_count": 134,
   "metadata": {},
   "outputs": [],
   "source": [
    "r_squared = metrics.r2_score(y_test, y_pred)"
   ]
  },
  {
   "cell_type": "code",
   "execution_count": 136,
   "metadata": {},
   "outputs": [
    {
     "name": "stdout",
     "output_type": "stream",
     "text": [
      "0.6412850211790397\n"
     ]
    }
   ],
   "source": [
    "print(r_squared)"
   ]
  },
  {
   "cell_type": "markdown",
   "metadata": {},
   "source": [
    "Scatter plot with Regression Line: helps us see how well the predicted values align with the actual data points\n",
    "\n",
    "scatter plot: scatter data points of predicted and actual values (y_test and y_predicted)\n",
    "\n",
    "regression line: "
   ]
  },
  {
   "cell_type": "code",
   "execution_count": 160,
   "metadata": {},
   "outputs": [
    {
     "data": {
      "image/png": "[encoded data removed]",
      "text/plain": [
       "<Figure size 432x288 with 1 Axes>"
      ]
     },
     "metadata": {
      "needs_background": "light"
     },
     "output_type": "display_data"
    }
   ],
   "source": [
    "plt.scatter(y_test,y_pred,color='blue', label='Actual Data')\n",
    "\n",
    "plt.xlabel('Actual values')\n",
    "plt.ylabel('Predicted values')\n",
    "\n",
    "z = np.polyfit(y_test, y_pred,1)\n",
    "p = np.poly1d(z)\n",
    "plt.plot(y_test,p(y_test), color='magenta')\n",
    "\n",
    "plt.legend()\n",
    "plt.show()"
   ]
  },
  {
   "cell_type": "markdown",
   "metadata": {},
   "source": [
    "Residual plot: visualize residuals (difference between actual and predicted value) for each data point\n",
    "\n",
    "check for heteroscedasticity (non-constant variance) as constant variance menas assumption met "
   ]
  },
  {
   "cell_type": "code",
   "execution_count": 165,
   "metadata": {},
   "outputs": [],
   "source": [
    "residuals = y_test - y_pred"
   ]
  },
  {
   "cell_type": "code",
   "execution_count": 166,
   "metadata": {},
   "outputs": [
    {
     "data": {
      "image/png": "[encoded data removed]",
      "text/plain": [
       "<Figure size 432x288 with 1 Axes>"
      ]
     },
     "metadata": {
      "needs_background": "light"
     },
     "output_type": "display_data"
    }
   ],
   "source": [
    "# Create a residual plot\n",
    "plt.scatter(y_pred, residuals, color='blue')\n",
    "plt.xlabel('Predicted Values (y_pred)')\n",
    "plt.ylabel('Residuals')\n",
    "plt.axhline(y=0, color='red', linestyle='--')\n",
    "plt.title('Residual Plot for Multivariate Linear Regression')\n",
    "plt.show()"
   ]
  },
  {
   "cell_type": "code",
   "execution_count": 168,
   "metadata": {},
   "outputs": [
    {
     "data": {
      "text/plain": [
       "<matplotlib.axes._subplots.AxesSubplot at 0x24ec62cf490>"
      ]
     },
     "execution_count": 168,
     "metadata": {},
     "output_type": "execute_result"
    },
    {
     "data": {
      "image/png": "[encoded data removed]",
      "text/plain": [
       "<Figure size 432x288 with 1 Axes>"
      ]
     },
     "metadata": {
      "needs_background": "light"
     },
     "output_type": "display_data"
    }
   ],
   "source": [
    "#Distribution of error: Needs to be normal for the assumption to be met \n",
    "sns.distplot((y_test-y_pred) ,bins=25)"
   ]
  },
  {
   "cell_type": "code",
   "execution_count": null,
   "metadata": {},
   "outputs": [],
   "source": [
    "coefficients = model.coef_"
   ]
  },
  {
   "cell_type": "code",
   "execution_count": 162,
   "metadata": {},
   "outputs": [
    {
     "name": "stdout",
     "output_type": "stream",
     "text": [
      "[ 0.24883413 -0.069576    0.02043435  0.52280163 -0.08518864  0.06267942\n",
      " -0.16631368  0.0538177   0.11959685]\n"
     ]
    }
   ],
   "source": [
    "print(coefficients)"
   ]
  },
  {
   "cell_type": "code",
   "execution_count": 164,
   "metadata": {},
   "outputs": [
    {
     "name": "stdout",
     "output_type": "stream",
     "text": [
      "<class 'pandas.core.frame.DataFrame'>\n",
      "Int64Index: 5358 entries, 3948 to 941\n",
      "Data columns (total 9 columns):\n",
      " #   Column                Non-Null Count  Dtype  \n",
      "---  ------                --------------  -----  \n",
      " 0   year                  5358 non-null   float64\n",
      " 1   km_driven             5358 non-null   float64\n",
      " 2   engine                5358 non-null   float64\n",
      " 3   max_power             5358 non-null   float64\n",
      " 4   fuel_Petrol           5358 non-null   float64\n",
      " 5   seller_type_Dealer    5358 non-null   float64\n",
      " 6   transmission_Manual   5358 non-null   float64\n",
      " 7   owner_First Owner     5358 non-null   float64\n",
      " 8   owner_Test Drive Car  5358 non-null   float64\n",
      "dtypes: float64(9)\n",
      "memory usage: 418.6 KB\n"
     ]
    }
   ],
   "source": [
    "X_train.info()"
   ]
  },
  {
   "cell_type": "code",
   "execution_count": null,
   "metadata": {},
   "outputs": [],
   "source": []
  }
 ],
 "metadata": {
  "kernelspec": {
   "display_name": "Python 3",
   "language": "python",
   "name": "python3"
  },
  "language_info": {
   "codemirror_mode": {
    "name": "ipython",
    "version": 3
   },
   "file_extension": ".py",
   "mimetype": "text/x-python",
   "name": "python",
   "nbconvert_exporter": "python",
   "pygments_lexer": "ipython3",
   "version": "3.8.3"
  }
 },
 "nbformat": 4,
 "nbformat_minor": 4
}
