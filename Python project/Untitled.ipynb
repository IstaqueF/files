{
 "cells": [
  {
   "cell_type": "code",
   "execution_count": 1,
   "metadata": {},
   "outputs": [],
   "source": [
    "import pandas as pd"
   ]
  },
  {
   "cell_type": "code",
   "execution_count": 2,
   "metadata": {},
   "outputs": [],
   "source": [
    "import numpy as np"
   ]
  },
  {
   "cell_type": "code",
   "execution_count": 3,
   "metadata": {},
   "outputs": [],
   "source": [
    "class DataCleaner:\n",
    "    def __init__(self, data): # parameters to put when I instantiate an object eg. DataCleaner(data)\n",
    "        self.data = data      # this means value (data) that I put after (self, ) gets assigned to self.data attribute\n",
    "                              # self.data in each method is the attribute \n",
    "                            \n",
    "    def remove_duplicates(self):\n",
    "        # Remove duplicate rows from the dataset\n",
    "        self.data = self.data.drop_duplicates()    # self.data attribute taken from init function \n",
    "\n",
    "    def handle_missing_values(self, strategy='mean'):\n",
    "        for column in self.data.columns:\n",
    "            if self.data[column].dtype in [np.float64, np.int64]:\n",
    "                if strategy == 'mean':\n",
    "                    # Fill missing values with the mean of the column\n",
    "                    self.data[column] = self.data[column].fillna(self.data[column].mean())\n",
    "                elif strategy == 'median':\n",
    "                    # Fill missing values with the median of the column\n",
    "                    self.data[column] = self.data[column].fillna(self.data[column].median())\n",
    "                elif strategy == 'mode':\n",
    "                    # Fill missing values with the mode of the column\n",
    "                    self.data[column] = self.data[column].fillna(self.data[column].mode().iloc[0])\n",
    "                else:\n",
    "                    raise ValueError(\"Invalid missing value strategy for numeric columns\")\n",
    "\n",
    "    def remove_outliers(self, column, threshold=3):\n",
    "        # Remove outliers from the specified column based on z-scores\n",
    "        z_scores = np.abs((self.data[column] - self.data[column].mean()) / self.data[column].std())\n",
    "        self.data = self.data[z_scores < threshold]\n",
    "\n",
    "    def convert_data_types(self, column_types):\n",
    "        # Convert the data types of columns as specified\n",
    "        self.data = self.data.astype(column_types)\n",
    "\n",
    "    def clean_data(self, drop_duplicates=True, handle_missing=True, remove_outliers=True, convert_types=None, outlier_column=None):\n",
    "        if drop_duplicates:\n",
    "            # Call the remove_duplicates method to eliminate duplicate rows\n",
    "            self.remove_duplicates()\n",
    "        if handle_missing:\n",
    "            # Handle missing values based on the specified strategy (default is 'mean' if not provided)\n",
    "            self.handle_missing_values()\n",
    "        if remove_outliers and outlier_column:\n",
    "            # Remove outliers for the specified column (if both remove_outliers and outlier_column are provided)\n",
    "            self.remove_outliers(column=outlier_column)  \n",
    "        if convert_types:\n",
    "            # Convert column data types as specified in the column_types parameter\n",
    "            self.convert_data_types(convert_types)\n",
    "\n",
    "    def get_cleaned_data(self):\n",
    "        # Return the cleaned dataset\n",
    "        return self.data"
   ]
  },
  {
   "cell_type": "code",
   "execution_count": 4,
   "metadata": {},
   "outputs": [
    {
     "ename": "SyntaxError",
     "evalue": "invalid syntax (<ipython-input-4-e0146b924e08>, line 10)",
     "output_type": "error",
     "traceback": [
      "\u001b[1;36m  File \u001b[1;32m\"<ipython-input-4-e0146b924e08>\"\u001b[1;36m, line \u001b[1;32m10\u001b[0m\n\u001b[1;33m    cleaner.clean_data()l\u001b[0m\n\u001b[1;37m                        ^\u001b[0m\n\u001b[1;31mSyntaxError\u001b[0m\u001b[1;31m:\u001b[0m invalid syntax\n"
     ]
    }
   ],
   "source": [
    "if __name__ == \"__main__\":\n",
    "    # Example usage:\n",
    "    # Load your dataset as a pandas DataFrame\n",
    "    data = pd.read_csv('f500.csv')\n",
    "\n",
    "    # Create an instance of DataCleaner\n",
    "    cleaner = DataCleaner(data)\n",
    "\n",
    "    # Clean the data\n",
    "    cleaner.clean_data()l\n",
    "\n",
    "    # Get the cleaned data\n",
    "    cleaned_data = cleaner.get_cleaned_data()\n",
    "    \n",
    "    cleaned_data.to_csv('f500.csv')"
   ]
  },
  {
   "cell_type": "code",
   "execution_count": null,
   "metadata": {},
   "outputs": [],
   "source": []
  }
 ],
 "metadata": {
  "kernelspec": {
   "display_name": "Python 3",
   "language": "python",
   "name": "python3"
  },
  "language_info": {
   "codemirror_mode": {
    "name": "ipython",
    "version": 3
   },
   "file_extension": ".py",
   "mimetype": "text/x-python",
   "name": "python",
   "nbconvert_exporter": "python",
   "pygments_lexer": "ipython3",
   "version": "3.8.3"
  }
 },
 "nbformat": 4,
 "nbformat_minor": 4
}
